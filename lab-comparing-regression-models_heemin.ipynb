{
 "cells": [
  {
   "cell_type": "markdown",
   "metadata": {},
   "source": [
    "# Lab | Comparing regression models\n"
   ]
  },
  {
   "cell_type": "code",
   "execution_count": 1,
   "metadata": {},
   "outputs": [],
   "source": [
    "import pandas as pd\n",
    "import seaborn as sns\n",
    "import matplotlib.pyplot as plt\n",
    "from sklearn.preprocessing import StandardScaler\n",
    "import numpy as np\n",
    "import statsmodels.api as sm\n",
    "from statsmodels.formula.api import ols\n",
    "from sklearn.linear_model import LinearRegression\n",
    "from sklearn.metrics import mean_squared_error, r2_score, mean_absolute_error\n"
   ]
  },
  {
   "cell_type": "code",
   "execution_count": 2,
   "metadata": {},
   "outputs": [],
   "source": [
    "customer_df  = pd.read_csv(r'./we_fn_use_c_marketing_customer_value_analysis.csv')"
   ]
  },
  {
   "cell_type": "code",
   "execution_count": 3,
   "metadata": {},
   "outputs": [],
   "source": [
    "def remove_outliers(df, column):\n",
    "    Q1 = df[column].quantile(0.25)\n",
    "    Q3 = df[column].quantile(0.75)\n",
    "    IQR = Q3 - Q1\n",
    "\n",
    "    lower_limit = Q1 - 1.5*IQR\n",
    "    upper_limit = Q3 + 1.5*IQR\n",
    "\n",
    "    return df[(df[column] >= lower_limit) & (df[column] <= upper_limit)]\n",
    "\n",
    "numerical_cols = customer_df.select_dtypes(include=['int64', 'float64']).columns\n",
    "\n",
    "for col in numerical_cols:\n",
    "    customer_df = remove_outliers(customer_df, col)\n"
   ]
  },
  {
   "cell_type": "code",
   "execution_count": 4,
   "metadata": {},
   "outputs": [
    {
     "data": {
      "text/plain": [
       "(5888, 24)"
      ]
     },
     "execution_count": 4,
     "metadata": {},
     "output_type": "execute_result"
    }
   ],
   "source": [
    "customer_df.shape"
   ]
  },
  {
   "cell_type": "code",
   "execution_count": 5,
   "metadata": {},
   "outputs": [],
   "source": [
    "df_wrangling = customer_df.copy()"
   ]
  },
  {
   "cell_type": "code",
   "execution_count": 7,
   "metadata": {},
   "outputs": [],
   "source": [
    "from sklearn.preprocessing import Normalizer\n",
    "\n",
    "# Select only numeric columns\n",
    "numeric_columns = df_wrangling.select_dtypes(include=['int64', 'float64']).columns\n",
    "norm = Normalizer()\n",
    "df_wrangling[numeric_columns] = norm.fit_transform(df_wrangling[numeric_columns])"
   ]
  },
  {
   "cell_type": "code",
   "execution_count": 8,
   "metadata": {},
   "outputs": [],
   "source": [
    "categoricals = customer_df.select_dtypes('object')"
   ]
  },
  {
   "cell_type": "code",
   "execution_count": 9,
   "metadata": {},
   "outputs": [],
   "source": [
    "categoricals = categoricals.drop(['Customer', 'Effective To Date'], axis =1)"
   ]
  },
  {
   "cell_type": "code",
   "execution_count": 10,
   "metadata": {},
   "outputs": [
    {
     "data": {
      "text/plain": [
       "Index(['State', 'Response', 'Coverage', 'Education', 'EmploymentStatus',\n",
       "       'Gender', 'Location Code', 'Marital Status', 'Policy Type', 'Policy',\n",
       "       'Renew Offer Type', 'Sales Channel', 'Vehicle Class', 'Vehicle Size'],\n",
       "      dtype='object')"
      ]
     },
     "execution_count": 10,
     "metadata": {},
     "output_type": "execute_result"
    }
   ],
   "source": [
    "categoricals.columns"
   ]
  },
  {
   "cell_type": "code",
   "execution_count": 11,
   "metadata": {},
   "outputs": [],
   "source": [
    "from sklearn.preprocessing import OrdinalEncoder, OneHotEncoder\n",
    "\n",
    "# Select columns for ordinal encoding\n",
    "ordinal_cols = ['Coverage', 'EmploymentStatus', 'Location Code', 'Vehicle Size']\n",
    "\n",
    "# Instantiate the OrdinalEncoder\n",
    "ordinal_enc = OrdinalEncoder()\n",
    "\n",
    "# Apply ordinal encoding to selected columns\n",
    "df_wrangling[ordinal_cols] = ordinal_enc.fit_transform(df_wrangling[ordinal_cols])\n",
    "\n",
    "\n",
    "# Select columns for one-hot encoding\n",
    "one_hot_cols = ['State', 'Marital Status', 'Policy Type', 'Policy', 'Renew Offer Type', 'Sales Channel', 'Vehicle Class']\n",
    "\n",
    "# Apply one-hot encoding to selected columns\n",
    "df_wrangling = pd.get_dummies(df_wrangling, columns=one_hot_cols)\n"
   ]
  },
  {
   "cell_type": "code",
   "execution_count": 12,
   "metadata": {},
   "outputs": [],
   "source": [
    "# Convert your 'Effective To Date' column to datetime if not already done\n",
    "df_wrangling['Effective To Date'] = pd.to_datetime(df_wrangling['Effective To Date'], format='%m/%d/%y')\n",
    "\n",
    "# Create 'Year' column\n",
    "df_wrangling['Year'] = df_wrangling['Effective To Date'].dt.year\n",
    "\n",
    "# Create 'Month' column\n",
    "df_wrangling['Month'] = df_wrangling['Effective To Date'].dt.month_name()\n",
    "\n",
    "# Create 'Day of Week' column\n",
    "df_wrangling['Day of Week'] = df_wrangling['Effective To Date'].dt.day_name()"
   ]
  },
  {
   "cell_type": "code",
   "execution_count": 13,
   "metadata": {},
   "outputs": [
    {
     "data": {
      "text/plain": [
       "Index(['Customer', 'Customer Lifetime Value', 'Response', 'Coverage',\n",
       "       'Education', 'Effective To Date', 'EmploymentStatus', 'Gender',\n",
       "       'Income', 'Location Code', 'Monthly Premium Auto',\n",
       "       'Months Since Last Claim', 'Months Since Policy Inception',\n",
       "       'Number of Open Complaints', 'Number of Policies', 'Total Claim Amount',\n",
       "       'Vehicle Size', 'State_Arizona', 'State_California', 'State_Nevada',\n",
       "       'State_Oregon', 'State_Washington', 'Marital Status_Divorced',\n",
       "       'Marital Status_Married', 'Marital Status_Single',\n",
       "       'Policy Type_Corporate Auto', 'Policy Type_Personal Auto',\n",
       "       'Policy Type_Special Auto', 'Policy_Corporate L1',\n",
       "       'Policy_Corporate L2', 'Policy_Corporate L3', 'Policy_Personal L1',\n",
       "       'Policy_Personal L2', 'Policy_Personal L3', 'Policy_Special L1',\n",
       "       'Policy_Special L2', 'Policy_Special L3', 'Renew Offer Type_Offer1',\n",
       "       'Renew Offer Type_Offer2', 'Renew Offer Type_Offer3',\n",
       "       'Renew Offer Type_Offer4', 'Sales Channel_Agent',\n",
       "       'Sales Channel_Branch', 'Sales Channel_Call Center',\n",
       "       'Sales Channel_Web', 'Vehicle Class_Four-Door Car', 'Vehicle Class_SUV',\n",
       "       'Vehicle Class_Sports Car', 'Vehicle Class_Two-Door Car', 'Year',\n",
       "       'Month', 'Day of Week'],\n",
       "      dtype='object')"
      ]
     },
     "execution_count": 13,
     "metadata": {},
     "output_type": "execute_result"
    }
   ],
   "source": [
    "df_wrangling.columns"
   ]
  },
  {
   "cell_type": "code",
   "execution_count": 14,
   "metadata": {},
   "outputs": [
    {
     "data": {
      "text/plain": [
       "Customer                                 object\n",
       "Customer Lifetime Value                 float64\n",
       "Response                                 object\n",
       "Coverage                                float64\n",
       "Education                                object\n",
       "Effective To Date                datetime64[ns]\n",
       "EmploymentStatus                        float64\n",
       "Gender                                   object\n",
       "Income                                  float64\n",
       "Location Code                           float64\n",
       "Monthly Premium Auto                    float64\n",
       "Months Since Last Claim                 float64\n",
       "Months Since Policy Inception           float64\n",
       "Number of Open Complaints               float64\n",
       "Number of Policies                      float64\n",
       "Total Claim Amount                      float64\n",
       "Vehicle Size                            float64\n",
       "State_Arizona                             uint8\n",
       "State_California                          uint8\n",
       "State_Nevada                              uint8\n",
       "State_Oregon                              uint8\n",
       "State_Washington                          uint8\n",
       "Marital Status_Divorced                   uint8\n",
       "Marital Status_Married                    uint8\n",
       "Marital Status_Single                     uint8\n",
       "Policy Type_Corporate Auto                uint8\n",
       "Policy Type_Personal Auto                 uint8\n",
       "Policy Type_Special Auto                  uint8\n",
       "Policy_Corporate L1                       uint8\n",
       "Policy_Corporate L2                       uint8\n",
       "Policy_Corporate L3                       uint8\n",
       "Policy_Personal L1                        uint8\n",
       "Policy_Personal L2                        uint8\n",
       "Policy_Personal L3                        uint8\n",
       "Policy_Special L1                         uint8\n",
       "Policy_Special L2                         uint8\n",
       "Policy_Special L3                         uint8\n",
       "Renew Offer Type_Offer1                   uint8\n",
       "Renew Offer Type_Offer2                   uint8\n",
       "Renew Offer Type_Offer3                   uint8\n",
       "Renew Offer Type_Offer4                   uint8\n",
       "Sales Channel_Agent                       uint8\n",
       "Sales Channel_Branch                      uint8\n",
       "Sales Channel_Call Center                 uint8\n",
       "Sales Channel_Web                         uint8\n",
       "Vehicle Class_Four-Door Car               uint8\n",
       "Vehicle Class_SUV                         uint8\n",
       "Vehicle Class_Sports Car                  uint8\n",
       "Vehicle Class_Two-Door Car                uint8\n",
       "Year                                      int64\n",
       "Month                                    object\n",
       "Day of Week                              object\n",
       "dtype: object"
      ]
     },
     "execution_count": 14,
     "metadata": {},
     "output_type": "execute_result"
    }
   ],
   "source": [
    "df_wrangling.dtypes"
   ]
  },
  {
   "cell_type": "code",
   "execution_count": 15,
   "metadata": {},
   "outputs": [],
   "source": [
    "df_wrangling=df_wrangling.drop(['Customer','Response','Education','Effective To Date','Gender'], axis=1)"
   ]
  },
  {
   "cell_type": "code",
   "execution_count": 16,
   "metadata": {},
   "outputs": [],
   "source": [
    "df_wrangling = pd.get_dummies(df_wrangling, columns=['Month','Day of Week'])"
   ]
  },
  {
   "cell_type": "code",
   "execution_count": 17,
   "metadata": {},
   "outputs": [
    {
     "data": {
      "text/plain": [
       "Customer Lifetime Value          float64\n",
       "Coverage                         float64\n",
       "EmploymentStatus                 float64\n",
       "Income                           float64\n",
       "Location Code                    float64\n",
       "Monthly Premium Auto             float64\n",
       "Months Since Last Claim          float64\n",
       "Months Since Policy Inception    float64\n",
       "Number of Open Complaints        float64\n",
       "Number of Policies               float64\n",
       "Total Claim Amount               float64\n",
       "Vehicle Size                     float64\n",
       "State_Arizona                      uint8\n",
       "State_California                   uint8\n",
       "State_Nevada                       uint8\n",
       "State_Oregon                       uint8\n",
       "State_Washington                   uint8\n",
       "Marital Status_Divorced            uint8\n",
       "Marital Status_Married             uint8\n",
       "Marital Status_Single              uint8\n",
       "Policy Type_Corporate Auto         uint8\n",
       "Policy Type_Personal Auto          uint8\n",
       "Policy Type_Special Auto           uint8\n",
       "Policy_Corporate L1                uint8\n",
       "Policy_Corporate L2                uint8\n",
       "Policy_Corporate L3                uint8\n",
       "Policy_Personal L1                 uint8\n",
       "Policy_Personal L2                 uint8\n",
       "Policy_Personal L3                 uint8\n",
       "Policy_Special L1                  uint8\n",
       "Policy_Special L2                  uint8\n",
       "Policy_Special L3                  uint8\n",
       "Renew Offer Type_Offer1            uint8\n",
       "Renew Offer Type_Offer2            uint8\n",
       "Renew Offer Type_Offer3            uint8\n",
       "Renew Offer Type_Offer4            uint8\n",
       "Sales Channel_Agent                uint8\n",
       "Sales Channel_Branch               uint8\n",
       "Sales Channel_Call Center          uint8\n",
       "Sales Channel_Web                  uint8\n",
       "Vehicle Class_Four-Door Car        uint8\n",
       "Vehicle Class_SUV                  uint8\n",
       "Vehicle Class_Sports Car           uint8\n",
       "Vehicle Class_Two-Door Car         uint8\n",
       "Year                               int64\n",
       "Month_February                     uint8\n",
       "Month_January                      uint8\n",
       "Day of Week_Friday                 uint8\n",
       "Day of Week_Monday                 uint8\n",
       "Day of Week_Saturday               uint8\n",
       "Day of Week_Sunday                 uint8\n",
       "Day of Week_Thursday               uint8\n",
       "Day of Week_Tuesday                uint8\n",
       "Day of Week_Wednesday              uint8\n",
       "dtype: object"
      ]
     },
     "execution_count": 17,
     "metadata": {},
     "output_type": "execute_result"
    }
   ],
   "source": [
    "df_wrangling.dtypes"
   ]
  },
  {
   "cell_type": "code",
   "execution_count": 19,
   "metadata": {},
   "outputs": [],
   "source": [
    "from sklearn.model_selection import train_test_split"
   ]
  },
  {
   "cell_type": "markdown",
   "metadata": {},
   "source": [
    "### 2. Try a simple linear regression with all the data to see whether we are getting good results."
   ]
  },
  {
   "cell_type": "code",
   "execution_count": 20,
   "metadata": {},
   "outputs": [
    {
     "name": "stdout",
     "output_type": "stream",
     "text": [
      "R2: 0.836570840097089\n",
      "MSE: 0.0004732204476160451\n",
      "RMSE: 0.021753630676649014\n"
     ]
    }
   ],
   "source": [
    "from sklearn.linear_model import LinearRegression\n",
    "from sklearn.metrics import mean_squared_error, r2_score\n",
    "\n",
    "# Define the independent variables (features) and the dependent variable (target)\n",
    "\n",
    "X = df_wrangling.drop('Total Claim Amount', axis=1)\n",
    "Y = df_wrangling['Total Claim Amount']\n",
    "\n",
    "# Now we split our data into training set and testing set\n",
    "\n",
    "X_train, X_test, Y_train, Y_test = train_test_split(X, Y, test_size=0.2, random_state=42)\n",
    "\n",
    "\n",
    "# Create a linear regression model\n",
    "model = LinearRegression()\n",
    "\n",
    "# Train the model\n",
    "model.fit(X_train, Y_train)\n",
    "\n",
    "# Now your model is ready to make predictions\n",
    "predictions = model.predict(X_test)\n",
    "\n",
    "\n",
    "# Calculate metrics\n",
    "mse = mean_squared_error(Y_test, predictions)\n",
    "rmse = np.sqrt(mse)\n",
    "r2 = r2_score(Y_test, predictions)\n",
    "\n",
    "print(f\"R2: {r2}\")\n",
    "print(f\"MSE: {mse}\")\n",
    "print(f\"RMSE: {rmse}\")\n"
   ]
  },
  {
   "cell_type": "markdown",
   "metadata": {},
   "source": [
    "### 3~5. Define a function that takes a list of models and trains (LinearRegressor, KneighborsRegressor, MLPRegressor)"
   ]
  },
  {
   "cell_type": "code",
   "execution_count": 21,
   "metadata": {},
   "outputs": [
    {
     "name": "stdout",
     "output_type": "stream",
     "text": [
      "{'LinearRegression': {'Mean Squared Error': 0.0004732204476160451, 'R^2 Score': 0.836570840097089}, 'KNeighborsRegressor': {'Mean Squared Error': 0.0008153437127456081, 'R^2 Score': 0.7184167787393448}, 'MLPRegressor': {'Mean Squared Error': 0.001258595944958448, 'R^2 Score': 0.5653372989734788}}\n"
     ]
    }
   ],
   "source": [
    "from sklearn.neighbors import KNeighborsRegressor\n",
    "from sklearn.neural_network import MLPRegressor\n",
    "\n",
    "def train_and_test(models, X, Y):\n",
    "    X_train, X_test, Y_train, Y_test = train_test_split(X, Y, test_size=0.2, random_state=42)\n",
    "    model_results = {}\n",
    "    for model in models:\n",
    "        model_name = type(model).__name__\n",
    "        model.fit(X_train, Y_train)\n",
    "        predictions = model.predict(X_test)\n",
    "\n",
    "        mse = mean_squared_error(Y_test, predictions)\n",
    "        r2 = r2_score(Y_test, predictions)\n",
    "\n",
    "        model_results[model_name] = {'Mean Squared Error': mse, 'R^2 Score': r2}\n",
    "    return model_results\n",
    "\n",
    "\n",
    "models = [LinearRegression(), KNeighborsRegressor(),MLPRegressor(max_iter=500)]\n",
    "\n",
    "\n",
    "X = df_wrangling.drop('Total Claim Amount', axis=1)\n",
    "Y = df_wrangling['Total Claim Amount']\n",
    "\n",
    "\n",
    "results = train_and_test(models, X, Y)\n",
    "print(results)\n",
    "\n"
   ]
  },
  {
   "cell_type": "markdown",
   "metadata": {},
   "source": [
    "### 6. Check and discuss the results."
   ]
  },
  {
   "cell_type": "markdown",
   "metadata": {},
   "source": [
    "Linear Regression model performs the best !!!\n",
    "The MLP Regressor seems to perform poorly with the current settings"
   ]
  },
  {
   "cell_type": "code",
   "execution_count": null,
   "metadata": {},
   "outputs": [],
   "source": []
  }
 ],
 "metadata": {
  "kernelspec": {
   "display_name": "Python 3 (ipykernel)",
   "language": "python",
   "name": "python3"
  },
  "language_info": {
   "codemirror_mode": {
    "name": "ipython",
    "version": 3
   },
   "file_extension": ".py",
   "mimetype": "text/x-python",
   "name": "python",
   "nbconvert_exporter": "python",
   "pygments_lexer": "ipython3",
   "version": "3.10.9"
  }
 },
 "nbformat": 4,
 "nbformat_minor": 2
}
